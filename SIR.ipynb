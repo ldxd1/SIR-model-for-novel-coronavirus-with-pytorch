{
 "cells": [
  {
   "cell_type": "code",
   "execution_count": 51,
   "metadata": {},
   "outputs": [],
   "source": [
    "import torch\n",
    "import torch.nn as nn\n",
    "import torch.nn.functional as F"
   ]
  },
  {
   "cell_type": "code",
   "execution_count": 64,
   "metadata": {},
   "outputs": [],
   "source": [
    "class SIR(nn.Module):\n",
    "    def __init__(self):\n",
    "        super(SIR, self).__init__()\n",
    "        self.lambda1 = nn.Linear(1,1, bias = False) \n",
    "        self.lambda2 = nn.Linear(1,1, bias = False) \n",
    "        self.lambda3 = nn.Linear(1,1) \n",
    "        self.lambda4 = nn.Linear(1,1, bias = False)\n",
    "        \n",
    "    def forward(self, x, n):\n",
    "        x = x.reshape(4)\n",
    "        ns = [torch.zeros(4,dtype=torch.float, requires_grad = False) for i in range(n)]\n",
    "        ns[0] = x\n",
    "        for i in range(1,n):\n",
    "            ns[i][0] = ns[i-1][0] - self.lambda2(self.lambda2(ns[i-1][0].view(1,1)))\\\n",
    "                        -  self.lambda4(self.lambda4(ns[i-1][0].view(1,1))) +\\\n",
    "                        self.lambda3(self.lambda3((ns[i-1][0]/1000*ns[i-1][2]).view(1,1)))\n",
    "            ns[i][1] = ns[i-1][1] + self.lambda2(self.lambda2(ns[i-1][0].view(1,1)))\n",
    "            ns[i][2] = ns[i-1][2] - self.lambda3(self.lambda3((ns[i-1][0]/1000*ns[i-1][2]).view(1,1)))\n",
    "            ns[i][3] = ns[i-1][3] + self.lambda4(self.lambda4(ns[i-1][0].view(1,1)))\n",
    "        ns[1] = ns[1].reshape(1,4)\n",
    "        for i in range(2,n):\n",
    "            ns[i] = ns[i].reshape(1,4)\n",
    "            ns[1] = torch.cat((ns[1],ns[i]), dim=0)\n",
    "            ns[1] = ns[1].reshape(-1,4)\n",
    "        return ns[1]"
   ]
  },
  {
   "cell_type": "code",
   "execution_count": 65,
   "metadata": {},
   "outputs": [],
   "source": [
    "import pandas as pd\n",
    "import numpy as np"
   ]
  },
  {
   "cell_type": "code",
   "execution_count": 66,
   "metadata": {},
   "outputs": [],
   "source": [
    "data_path = 'china_DailyList_2020_02_12.csv'\n",
    "df = pd.read_csv(data_path, usecols=['confirm','suspect','dead','heal'])"
   ]
  },
  {
   "cell_type": "code",
   "execution_count": 67,
   "metadata": {},
   "outputs": [],
   "source": [
    "import copy\n",
    "data = np.array(df)\n",
    "healed = copy.deepcopy(data[:,2:])\n",
    "total = 100000 #Assume that total Susceptible is 100000\n",
    "for i in range(len(data)):\n",
    "    data[i,0] -= data[i,2] + data[i,3] #calculated the currently comfirmed case\n",
    "for dat in data:\n",
    "    dat[2] = (total - dat[1] - dat[0]) #calculate the rest of Susceptible\n",
    "for dat in data:\n",
    "    dat[1] = dat[3]\n",
    "for i,dat in enumerate(data):\n",
    "    dat[3] = healed[i][0]"
   ]
  },
  {
   "cell_type": "code",
   "execution_count": 78,
   "metadata": {
    "scrolled": true
   },
   "outputs": [
    {
     "name": "stdout",
     "output_type": "stream",
     "text": [
      "loss: 119.88440704345703\n",
      "loss: 98.45426940917969\n",
      "loss: 27.573543548583984\n",
      "loss: 26.62078094482422\n",
      "loss: 26.575002670288086\n",
      "loss: 26.5738582611084\n",
      "loss: 26.574106216430664\n",
      "loss: 26.574254989624023\n",
      "loss: 29.03837013244629\n",
      "loss: 26.759445190429688\n"
     ]
    }
   ],
   "source": [
    "y = torch.from_numpy(data.astype(np.float32))/100\n",
    "#downscaled by 100 to avoid gradient explosion\n",
    "sir = SIR()\n",
    "opt = torch.optim.Adam(sir.parameters(), lr=0.05)\n",
    "loss_func = nn.SmoothL1Loss()\n",
    "best = 10000\n",
    "for epoch in range(1000):\n",
    "    out = sir(y[0], 32)\n",
    "    out = out.squeeze()\n",
    "    loss = loss_func(out, y[1:])\n",
    "    loss.backward()\n",
    "    opt.step() \n",
    "    opt.zero_grad()\n",
    "    if loss.item() < best:\n",
    "        best = loss.item()\n",
    "        torch.save(sir, 'sir.pkl')\n",
    "    if epoch%100 == 0:        \n",
    "        print('loss: {}'.format(loss.item()))"
   ]
  },
  {
   "cell_type": "code",
   "execution_count": 79,
   "metadata": {},
   "outputs": [],
   "source": [
    "import matplotlib.pyplot as plt\n",
    "%matplotlib inline\n",
    "model = torch.load('sir.pkl')\n",
    "window = 10\n",
    "y = torch.from_numpy(data.astype(np.float32))/100\n",
    "h = y[0]\n",
    "res = model(h,85)\n",
    "res = res.tolist()"
   ]
  },
  {
   "cell_type": "code",
   "execution_count": 80,
   "metadata": {},
   "outputs": [
    {
     "data": {
      "image/png": "[encoded data removed]",
      "text/plain": [
       "<Figure size 432x288 with 1 Axes>"
      ]
     },
     "metadata": {
      "needs_background": "light"
     },
     "output_type": "display_data"
    }
   ],
   "source": [
    "cirm = [0]*len(res)\n",
    "cirm[0] = y[0][0]*100\n",
    "rec = [0]*len(res)\n",
    "rec[0] = y[0][1]*100\n",
    "real = [0]*32\n",
    "realc = [0]*32\n",
    "real[0] = y[0][0]*100\n",
    "realc[0] = y[0][1]*100\n",
    "read = [0]*32\n",
    "di = [0]*len(res)\n",
    "realt = [0]*32\n",
    "total = [0]*len(res)\n",
    "total[0] = (y[0][0] + y[0][1] + y[0][3])*100\n",
    "realt[0] = (y[0][0] + y[0][1] + y[0][3])*100\n",
    "ma = 0\n",
    "ma_i = 0\n",
    "for i in range(1, len(res)):\n",
    "    cirm[i] = res[i - 1][0]*100\n",
    "    rec[i] = res[i-1][1]*100\n",
    "    di[i] = res[i-1][3]*100\n",
    "    total[i] = (res[i-1][0] + res[i-1][1] + res[i-1][3])*100\n",
    "    if cirm[i] > ma:\n",
    "        ma = cirm[i]\n",
    "        ma_i = i\n",
    "    if i < 32:\n",
    "        real[i] = y[i][0]*100\n",
    "        realc[i] = y[i][1]*100\n",
    "        read[i] = y[i][3]*100\n",
    "        realt[i] = (y[i][0] + y[i][1] + y[i][3])*100\n",
    "plt.plot(real, color = 'r', linewidth=0, marker='.', label='comf')\n",
    "plt.plot(cirm, color = 'b', linewidth=0, marker='.', label='p_com')\n",
    "plt.plot(realc, color = 'g', linewidth=0, marker='.', label='cured')\n",
    "plt.plot(rec, color = 'purple', linewidth=0, marker='.', label='p_cured')\n",
    "plt.legend()\n",
    "plt.savefig('prediction.png', format='png', linewidth = 0.01)"
   ]
  }
 ],
 "metadata": {
  "kernelspec": {
   "display_name": "Python 3",
   "language": "python",
   "name": "python3"
  },
  "language_info": {
   "codemirror_mode": {
    "name": "ipython",
    "version": 3
   },
   "file_extension": ".py",
   "mimetype": "text/x-python",
   "name": "python",
   "nbconvert_exporter": "python",
   "pygments_lexer": "ipython3",
   "version": "3.6.8"
  }
 },
 "nbformat": 4,
 "nbformat_minor": 4
}
